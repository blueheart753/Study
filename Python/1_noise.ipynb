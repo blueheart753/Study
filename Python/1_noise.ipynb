{
  "cells": [
    {
      "cell_type": "code",
      "execution_count": 13,
      "metadata": {},
      "outputs": [
        {
          "name": "stdout",
          "output_type": "stream",
          "text": [
            "Process Start.\n"
          ]
        },
        {
          "ename": "AttributeError",
          "evalue": "'tuple' object has no attribute '__array_interface__'",
          "output_type": "error",
          "traceback": [
            "\u001b[1;31m---------------------------------------------------------------------------\u001b[0m",
            "\u001b[1;31mAttributeError\u001b[0m                            Traceback (most recent call last)",
            "Cell \u001b[1;32mIn [13], line 39\u001b[0m\n\u001b[0;32m     36\u001b[0m image \u001b[38;5;241m=\u001b[39m ((Xdim,Ydim))\n\u001b[0;32m     38\u001b[0m \u001b[38;5;66;03m# 결과물을 PIL Image 형태로 만듭니다.\u001b[39;00m\n\u001b[1;32m---> 39\u001b[0m result \u001b[38;5;241m=\u001b[39m \u001b[43mImage\u001b[49m\u001b[38;5;241;43m.\u001b[39;49m\u001b[43mfromarray\u001b[49m\u001b[43m(\u001b[49m\u001b[43mimage\u001b[49m\u001b[43m)\u001b[49m\n\u001b[0;32m     41\u001b[0m \u001b[38;5;66;03m# 결과물 파일을 저장합니다. 경로는 out_dir + \"/\" + name\u001b[39;00m\n\u001b[0;32m     42\u001b[0m result\u001b[38;5;241m.\u001b[39msave(out_dir\u001b[38;5;241m+\u001b[39m\u001b[38;5;124m\"\u001b[39m\u001b[38;5;124m/\u001b[39m\u001b[38;5;124m\"\u001b[39m\u001b[38;5;241m+\u001b[39mname)\n",
            "File \u001b[1;32m~\\AppData\\Local\\Packages\\PythonSoftwareFoundation.Python.3.9_qbz5n2kfra8p0\\LocalCache\\local-packages\\Python39\\site-packages\\PIL\\Image.py:2982\u001b[0m, in \u001b[0;36mfromarray\u001b[1;34m(obj, mode)\u001b[0m\n\u001b[0;32m   2943\u001b[0m \u001b[39mdef\u001b[39;00m \u001b[39mfromarray\u001b[39m(obj, mode\u001b[39m=\u001b[39m\u001b[39mNone\u001b[39;00m):\n\u001b[0;32m   2944\u001b[0m     \u001b[39m\"\"\"\u001b[39;00m\n\u001b[0;32m   2945\u001b[0m \u001b[39m    Creates an image memory from an object exporting the array interface\u001b[39;00m\n\u001b[0;32m   2946\u001b[0m \u001b[39m    (using the buffer protocol).\u001b[39;00m\n\u001b[1;32m   (...)\u001b[0m\n\u001b[0;32m   2980\u001b[0m \u001b[39m    .. versionadded:: 1.1.6\u001b[39;00m\n\u001b[0;32m   2981\u001b[0m \u001b[39m    \"\"\"\u001b[39;00m\n\u001b[1;32m-> 2982\u001b[0m     arr \u001b[39m=\u001b[39m obj\u001b[39m.\u001b[39;49m__array_interface__\n\u001b[0;32m   2983\u001b[0m     shape \u001b[39m=\u001b[39m arr[\u001b[39m\"\u001b[39m\u001b[39mshape\u001b[39m\u001b[39m\"\u001b[39m]\n\u001b[0;32m   2984\u001b[0m     ndim \u001b[39m=\u001b[39m \u001b[39mlen\u001b[39m(shape)\n",
            "\u001b[1;31mAttributeError\u001b[0m: 'tuple' object has no attribute '__array_interface__'"
          ]
        }
      ],
      "source": [
        "#-*-coding:euc-kr\n",
        "\n",
        "#??? 를 찾아 채워보세요\n",
        "\n",
        "import time\n",
        "import os\n",
        "import numpy as np\n",
        "from PIL import Image\n",
        "\n",
        "\n",
        "# 작업 시작 메시지를 출력합니다.\n",
        "print(\"Process Start.\")\n",
        "\n",
        "# 시작 시점의 시간을 기록합니다.\n",
        "start_time = time.time()\n",
        "\n",
        "# 생성할 이미지 파일 개수를 정의합니다.\n",
        "NUM_SAMPLES = 1000\n",
        "\n",
        "# 결과물을 저장할 폴더를 생성합니다.\n",
        "out_dir =\"random_image\"\n",
        "if out_dir not in os.listdir():\n",
        "    os.mkdir(out_dir)\n",
        "\n",
        "\n",
        "# NUM_SAMPLES 회수만큼 반복하며 그림을 생성합니다.\n",
        "# 이를테면, NUM_SAMPLES가 100이면 랜덤 이미지 100개를 생성합니다.\n",
        "for i in range(NUM_SAMPLES):\n",
        "    # 저장할 파일 이름을 정합니다. 현재 시각을 그대로 가져오죠.\n",
        "    name = str(time.time())[-7:] + \".png\"\n",
        "\n",
        "    # 랜덤 이미지를 생성하기 위해 사이즈를 정의합니다. 사이즈마저도 랜덤입니다.\n",
        "    Xdim, Ydim = np.random.randint(100, 400, size=2)\n",
        "\n",
        "    # 랜덤 이미지를 생성합니다.\n",
        "    image = ((Xdim,Ydim))\n",
        "\n",
        "    # 결과물을 PIL Image 형태로 만듭니다.\n",
        "    result = Image.fromarray(image)\n",
        "\n",
        "    # 결과물 파일을 저장합니다. 경로는 out_dir + \"/\" + name\n",
        "    result.save(out_dir+\"/\"+name)\n",
        "\n",
        "    # 이미지를 닫아줍니다.\n",
        "    result.close()\n",
        "\n",
        "# 작업 종료 메세지를 출력합니다.\n",
        "print(\"Process Done.\")\n",
        "\n",
        "# 작업에 총 몇 초가 걸렸는지 출력합니다.\n",
        "end_time = time.time()\n",
        "print(\"The Job Took \" + str(end_time - start_time) + \" seconds.\")\n"
      ]
    }
  ],
  "metadata": {
    "colab": {
      "provenance": []
    },
    "kernelspec": {
      "display_name": "Python 3.9.13 64-bit (microsoft store)",
      "language": "python",
      "name": "python3"
    },
    "language_info": {
      "codemirror_mode": {
        "name": "ipython",
        "version": 3
      },
      "file_extension": ".py",
      "mimetype": "text/x-python",
      "name": "python",
      "nbconvert_exporter": "python",
      "pygments_lexer": "ipython3",
      "version": "3.9.13"
    },
    "vscode": {
      "interpreter": {
        "hash": "0802842df77196f46480eedf8f99793da4ff0bd37409412c272d238ae75c1427"
      }
    }
  },
  "nbformat": 4,
  "nbformat_minor": 0
}
