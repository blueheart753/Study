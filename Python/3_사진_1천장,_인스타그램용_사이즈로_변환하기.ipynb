{
  "cells": [
    {
      "cell_type": "markdown",
      "metadata": {
        "id": "as2fIi_tREdU"
      },
      "source": [
        "#사진 1천장, 인스타그램용 사이즈로 변환하기"
      ]
    },
    {
      "cell_type": "markdown",
      "metadata": {
        "id": "ip8MZXowRPyY"
      },
      "source": [
        "이미지 그리기 - new, save"
      ]
    },
    {
      "cell_type": "code",
      "execution_count": 5,
      "metadata": {
        "id": "qdAPs2tgbnu8"
      },
      "outputs": [],
      "source": [
        "from PIL import Image\n",
        "new_image = Image.new(\"RGBA\",(30,30),'pink')\n",
        "new_image.save(\"test1.png\")"
      ]
    },
    {
      "cell_type": "markdown",
      "metadata": {
        "id": "sjeySDqZWfMV"
      },
      "source": [
        "캔버스에 원본 사진 붙여넣기 - paste"
      ]
    },
    {
      "cell_type": "code",
      "execution_count": 6,
      "metadata": {
        "id": "NgSXum2lCKzL"
      },
      "outputs": [],
      "source": [
        "a = Image.open(\"3a.png\")"
      ]
    },
    {
      "cell_type": "code",
      "execution_count": 7,
      "metadata": {
        "id": "2EAj085WCKry"
      },
      "outputs": [
        {
          "data": {
            "text/plain": [
              "(122, 241)"
            ]
          },
          "execution_count": 7,
          "metadata": {},
          "output_type": "execute_result"
        }
      ],
      "source": [
        "a.size"
      ]
    },
    {
      "cell_type": "code",
      "execution_count": 12,
      "metadata": {
        "id": "m5CSm7tzbqYB"
      },
      "outputs": [],
      "source": [
        "new_image = Image.new(\"RGBA\",(241,241),'black')\n",
        "new_image.save(\"test3.png\")"
      ]
    },
    {
      "cell_type": "code",
      "execution_count": 13,
      "metadata": {
        "id": "TUViGS8LCNYg"
      },
      "outputs": [],
      "source": [
        "new_image.paste(a,(int((241-122)/2),0))\n",
        "new_image.save(\"test3.png\")"
      ]
    },
    {
      "cell_type": "code",
      "execution_count": null,
      "metadata": {
        "id": "pa2DboJ7CNP7"
      },
      "outputs": [],
      "source": []
    },
    {
      "cell_type": "code",
      "execution_count": null,
      "metadata": {
        "id": "5Oc0jJFFCM_h"
      },
      "outputs": [],
      "source": []
    }
  ],
  "metadata": {
    "colab": {
      "provenance": []
    },
    "kernelspec": {
      "display_name": "Python 3.9.13 64-bit (microsoft store)",
      "language": "python",
      "name": "python3"
    },
    "language_info": {
      "codemirror_mode": {
        "name": "ipython",
        "version": 3
      },
      "file_extension": ".py",
      "mimetype": "text/x-python",
      "name": "python",
      "nbconvert_exporter": "python",
      "pygments_lexer": "ipython3",
      "version": "3.9.13"
    },
    "vscode": {
      "interpreter": {
        "hash": "0802842df77196f46480eedf8f99793da4ff0bd37409412c272d238ae75c1427"
      }
    }
  },
  "nbformat": 4,
  "nbformat_minor": 0
}
