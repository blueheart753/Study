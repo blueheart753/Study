{
  "cells": [
    {
      "cell_type": "markdown",
      "metadata": {
        "id": "DvdwC8HJbWA9"
      },
      "source": [
        "#이미지 파일에 로고 넣기"
      ]
    },
    {
      "cell_type": "markdown",
      "metadata": {
        "id": "r-wV7hmiYjqC"
      },
      "source": [
        "paste()"
      ]
    },
    {
      "cell_type": "code",
      "execution_count": 1,
      "metadata": {
        "id": "RQZH8hezDa4J"
      },
      "outputs": [],
      "source": [
        "from PIL import Image\n",
        "image = Image.open(\"4.png\")\n",
        "logo = Image.open(\"4_logo.png\")\n",
        "\n",
        "image.paste(logo,(10,10),logo)\n",
        "\n",
        "image.save(\"4_out.png\")\n",
        "image.close()"
      ]
    }
  ],
  "metadata": {
    "colab": {
      "provenance": []
    },
    "kernelspec": {
      "display_name": "Python 3.9.13 64-bit (microsoft store)",
      "language": "python",
      "name": "python3"
    },
    "language_info": {
      "codemirror_mode": {
        "name": "ipython",
        "version": 3
      },
      "file_extension": ".py",
      "mimetype": "text/x-python",
      "name": "python",
      "nbconvert_exporter": "python",
      "pygments_lexer": "ipython3",
      "version": "3.9.13"
    },
    "vscode": {
      "interpreter": {
        "hash": "0802842df77196f46480eedf8f99793da4ff0bd37409412c272d238ae75c1427"
      }
    }
  },
  "nbformat": 4,
  "nbformat_minor": 0
}
