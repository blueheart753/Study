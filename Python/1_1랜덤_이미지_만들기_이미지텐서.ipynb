{
  "cells": [
    {
      "cell_type": "markdown",
      "metadata": {
        "id": "wvmxXkPcnuxG"
      },
      "source": [
        "# numpy  - random integer"
      ]
    },
    {
      "cell_type": "code",
      "execution_count": 1,
      "metadata": {
        "colab": {
          "background_save": true
        },
        "id": "4FPNycC7eZAI"
      },
      "outputs": [
        {
          "name": "stdout",
          "output_type": "stream",
          "text": [
            "Requirement already satisfied: numpy in c:\\users\\kimminam\\appdata\\local\\packages\\pythonsoftwarefoundation.python.3.9_qbz5n2kfra8p0\\localcache\\local-packages\\python39\\site-packages (1.23.5)\n",
            "Note: you may need to restart the kernel to use updated packages.\n"
          ]
        },
        {
          "name": "stderr",
          "output_type": "stream",
          "text": [
            "WARNING: You are using pip version 22.0.4; however, version 22.3.1 is available.\n",
            "You should consider upgrading via the 'C:\\Users\\kimminam\\AppData\\Local\\Microsoft\\WindowsApps\\PythonSoftwareFoundation.Python.3.9_qbz5n2kfra8p0\\python.exe -m pip install --upgrade pip' command.\n"
          ]
        }
      ],
      "source": [
        "pip install numpy"
      ]
    },
    {
      "cell_type": "code",
      "execution_count": 2,
      "metadata": {
        "id": "ZOWFzcKXeY4K"
      },
      "outputs": [
        {
          "name": "stdout",
          "output_type": "stream",
          "text": [
            "Requirement already satisfied: pillow in c:\\users\\kimminam\\appdata\\local\\packages\\pythonsoftwarefoundation.python.3.9_qbz5n2kfra8p0\\localcache\\local-packages\\python39\\site-packages (9.3.0)Note: you may need to restart the kernel to use updated packages.\n",
            "\n"
          ]
        },
        {
          "name": "stderr",
          "output_type": "stream",
          "text": [
            "WARNING: You are using pip version 22.0.4; however, version 22.3.1 is available.\n",
            "You should consider upgrading via the 'C:\\Users\\kimminam\\AppData\\Local\\Microsoft\\WindowsApps\\PythonSoftwareFoundation.Python.3.9_qbz5n2kfra8p0\\python.exe -m pip install --upgrade pip' command.\n"
          ]
        }
      ],
      "source": [
        "pip install pillow"
      ]
    },
    {
      "cell_type": "code",
      "execution_count": 10,
      "metadata": {
        "id": "FLG6v3ySeYuY"
      },
      "outputs": [
        {
          "data": {
            "text/plain": [
              "257"
            ]
          },
          "execution_count": 10,
          "metadata": {},
          "output_type": "execute_result"
        }
      ],
      "source": [
        "import numpy as np\n",
        "np.random.randint(100,400)"
      ]
    },
    {
      "cell_type": "code",
      "execution_count": null,
      "metadata": {
        "id": "Hh92nJUueYjO"
      },
      "outputs": [],
      "source": []
    },
    {
      "cell_type": "markdown",
      "metadata": {
        "id": "w7iXP3zDob7h"
      },
      "source": [
        "#언팩킹 (변수 여러개에 한번에 매칭하기)"
      ]
    },
    {
      "cell_type": "code",
      "execution_count": 3,
      "metadata": {
        "id": "15F0gR3Cee2i"
      },
      "outputs": [],
      "source": [
        "x,y = [1,2]"
      ]
    },
    {
      "cell_type": "code",
      "execution_count": 4,
      "metadata": {
        "id": "cDtwGlEYeevC"
      },
      "outputs": [
        {
          "data": {
            "text/plain": [
              "1"
            ]
          },
          "execution_count": 4,
          "metadata": {},
          "output_type": "execute_result"
        }
      ],
      "source": [
        "x"
      ]
    },
    {
      "cell_type": "code",
      "execution_count": 5,
      "metadata": {
        "id": "PaxcAL8jeenP"
      },
      "outputs": [
        {
          "data": {
            "text/plain": [
              "2"
            ]
          },
          "execution_count": 5,
          "metadata": {},
          "output_type": "execute_result"
        }
      ],
      "source": [
        "y"
      ]
    },
    {
      "cell_type": "code",
      "execution_count": 11,
      "metadata": {
        "id": "9KNH4VxqeehR"
      },
      "outputs": [],
      "source": [
        "x,y,z = np.random.randint(100,400,size=3)"
      ]
    },
    {
      "cell_type": "code",
      "execution_count": 12,
      "metadata": {
        "id": "W6JFotS9eeb9"
      },
      "outputs": [
        {
          "data": {
            "text/plain": [
              "234"
            ]
          },
          "execution_count": 12,
          "metadata": {},
          "output_type": "execute_result"
        }
      ],
      "source": [
        "x"
      ]
    },
    {
      "cell_type": "code",
      "execution_count": 34,
      "metadata": {
        "id": "FBf-zQ89eeW2"
      },
      "outputs": [
        {
          "data": {
            "text/plain": [
              "210"
            ]
          },
          "execution_count": 34,
          "metadata": {},
          "output_type": "execute_result"
        }
      ],
      "source": [
        "y"
      ]
    },
    {
      "cell_type": "code",
      "execution_count": 35,
      "metadata": {
        "id": "rPTYSTGVeeRd"
      },
      "outputs": [
        {
          "data": {
            "text/plain": [
              "188"
            ]
          },
          "execution_count": 35,
          "metadata": {},
          "output_type": "execute_result"
        }
      ],
      "source": [
        "z"
      ]
    },
    {
      "cell_type": "code",
      "execution_count": null,
      "metadata": {
        "id": "St8vv19leeLs"
      },
      "outputs": [],
      "source": []
    },
    {
      "cell_type": "code",
      "execution_count": null,
      "metadata": {
        "id": "UkEyy2iPeeFJ"
      },
      "outputs": [],
      "source": []
    },
    {
      "cell_type": "code",
      "execution_count": null,
      "metadata": {
        "id": "D6dmjLrsed-H"
      },
      "outputs": [],
      "source": []
    },
    {
      "cell_type": "code",
      "execution_count": null,
      "metadata": {
        "id": "PMUUO6Oced1n"
      },
      "outputs": [],
      "source": []
    },
    {
      "cell_type": "code",
      "execution_count": null,
      "metadata": {
        "id": "aOyK3pKi_r3c"
      },
      "outputs": [],
      "source": []
    },
    {
      "cell_type": "code",
      "execution_count": null,
      "metadata": {
        "id": "1G-YkVo7_wGu"
      },
      "outputs": [],
      "source": []
    },
    {
      "cell_type": "code",
      "execution_count": null,
      "metadata": {
        "id": "B-JqCazr_xOe"
      },
      "outputs": [],
      "source": []
    },
    {
      "cell_type": "code",
      "execution_count": null,
      "metadata": {
        "id": "gFcEcr_j_yHv"
      },
      "outputs": [],
      "source": []
    },
    {
      "cell_type": "markdown",
      "metadata": {
        "id": "bEyRyxcN_35R"
      },
      "source": [
        "#랜덤 이미지 만들기"
      ]
    },
    {
      "cell_type": "markdown",
      "metadata": {
        "id": "UXpvFF1-Ba0T"
      },
      "source": [
        "이미지 텐서"
      ]
    },
    {
      "cell_type": "code",
      "execution_count": 37,
      "metadata": {
        "id": "_y3qP7qyehii"
      },
      "outputs": [],
      "source": [
        "image_tensor = np.random.randint(256,size = (x,y,3))"
      ]
    },
    {
      "cell_type": "code",
      "execution_count": 38,
      "metadata": {
        "id": "AelyLJQdeha0"
      },
      "outputs": [
        {
          "data": {
            "text/plain": [
              "array([[[162, 155, 187],\n",
              "        [ 63, 246,  45],\n",
              "        [150, 192,  77],\n",
              "        ...,\n",
              "        [253, 106, 116],\n",
              "        [ 27,  38,  66],\n",
              "        [131,  53, 248]],\n",
              "\n",
              "       [[211,   6,  90],\n",
              "        [235, 215, 149],\n",
              "        [228, 247, 126],\n",
              "        ...,\n",
              "        [ 17,  53, 148],\n",
              "        [250,  90,  20],\n",
              "        [ 54, 244,  16]],\n",
              "\n",
              "       [[ 26,  99,  50],\n",
              "        [ 96,  46, 149],\n",
              "        [ 13, 156, 104],\n",
              "        ...,\n",
              "        [157, 162,  38],\n",
              "        [128,  19,   5],\n",
              "        [146,  17, 144]],\n",
              "\n",
              "       ...,\n",
              "\n",
              "       [[ 43,  58,  80],\n",
              "        [117,  98,  14],\n",
              "        [114, 120, 116],\n",
              "        ...,\n",
              "        [132, 118,  60],\n",
              "        [ 27, 120,  89],\n",
              "        [  7, 138,  13]],\n",
              "\n",
              "       [[ 48,  80,  67],\n",
              "        [ 17,  36,  99],\n",
              "        [117, 157, 132],\n",
              "        ...,\n",
              "        [ 49, 223, 103],\n",
              "        [163, 229, 173],\n",
              "        [109, 246, 192]],\n",
              "\n",
              "       [[164, 102, 254],\n",
              "        [  5, 156,  55],\n",
              "        [249, 188, 215],\n",
              "        ...,\n",
              "        [ 70, 205, 244],\n",
              "        [ 64, 107,  34],\n",
              "        [ 64,  21,  16]]])"
            ]
          },
          "execution_count": 38,
          "metadata": {},
          "output_type": "execute_result"
        }
      ],
      "source": [
        "image_tensor"
      ]
    },
    {
      "cell_type": "code",
      "execution_count": 45,
      "metadata": {
        "id": "5nz4dggsehTW"
      },
      "outputs": [
        {
          "data": {
            "text/plain": [
              "(234, 210, 3)"
            ]
          },
          "execution_count": 45,
          "metadata": {},
          "output_type": "execute_result"
        }
      ],
      "source": [
        "image_tensor.shape"
      ]
    },
    {
      "cell_type": "code",
      "execution_count": 40,
      "metadata": {
        "id": "WbU8o2FIehLx"
      },
      "outputs": [
        {
          "data": {
            "text/plain": [
              "array([[[162, 155, 187],\n",
              "        [ 63, 246,  45],\n",
              "        [150, 192,  77],\n",
              "        ...,\n",
              "        [253, 106, 116],\n",
              "        [ 27,  38,  66],\n",
              "        [131,  53, 248]],\n",
              "\n",
              "       [[211,   6,  90],\n",
              "        [235, 215, 149],\n",
              "        [228, 247, 126],\n",
              "        ...,\n",
              "        [ 17,  53, 148],\n",
              "        [250,  90,  20],\n",
              "        [ 54, 244,  16]],\n",
              "\n",
              "       [[ 26,  99,  50],\n",
              "        [ 96,  46, 149],\n",
              "        [ 13, 156, 104],\n",
              "        ...,\n",
              "        [157, 162,  38],\n",
              "        [128,  19,   5],\n",
              "        [146,  17, 144]],\n",
              "\n",
              "       ...,\n",
              "\n",
              "       [[ 43,  58,  80],\n",
              "        [117,  98,  14],\n",
              "        [114, 120, 116],\n",
              "        ...,\n",
              "        [132, 118,  60],\n",
              "        [ 27, 120,  89],\n",
              "        [  7, 138,  13]],\n",
              "\n",
              "       [[ 48,  80,  67],\n",
              "        [ 17,  36,  99],\n",
              "        [117, 157, 132],\n",
              "        ...,\n",
              "        [ 49, 223, 103],\n",
              "        [163, 229, 173],\n",
              "        [109, 246, 192]],\n",
              "\n",
              "       [[164, 102, 254],\n",
              "        [  5, 156,  55],\n",
              "        [249, 188, 215],\n",
              "        ...,\n",
              "        [ 70, 205, 244],\n",
              "        [ 64, 107,  34],\n",
              "        [ 64,  21,  16]]], dtype=uint8)"
            ]
          },
          "execution_count": 40,
          "metadata": {},
          "output_type": "execute_result"
        }
      ],
      "source": [
        "image_tensor.astype('uint8')"
      ]
    },
    {
      "cell_type": "code",
      "execution_count": null,
      "metadata": {
        "id": "rPsgcB5cehEJ"
      },
      "outputs": [],
      "source": []
    },
    {
      "cell_type": "markdown",
      "metadata": {
        "id": "F92A-37rAeMV"
      },
      "source": [
        "데이터의 사이즈"
      ]
    },
    {
      "cell_type": "code",
      "execution_count": null,
      "metadata": {
        "id": "j_DymEuCeiRj"
      },
      "outputs": [],
      "source": []
    },
    {
      "cell_type": "markdown",
      "metadata": {
        "id": "ZE-loAaAAwGE"
      },
      "source": [
        "이미지 텐서는 uint8 로"
      ]
    },
    {
      "cell_type": "code",
      "execution_count": null,
      "metadata": {
        "id": "Lxg08WuHejLi"
      },
      "outputs": [],
      "source": []
    },
    {
      "cell_type": "markdown",
      "metadata": {
        "id": "UGrWDT8fA7fD"
      },
      "source": [
        "**위의 작업들을 한번에** "
      ]
    },
    {
      "cell_type": "code",
      "execution_count": null,
      "metadata": {
        "id": "oKi9MVvvelj-"
      },
      "outputs": [],
      "source": []
    },
    {
      "cell_type": "code",
      "execution_count": null,
      "metadata": {
        "id": "nzVQUYUnelcU"
      },
      "outputs": [],
      "source": []
    },
    {
      "cell_type": "markdown",
      "metadata": {
        "id": "yKun1xSl_UQ2"
      },
      "source": [
        "이미지 생성하기"
      ]
    },
    {
      "cell_type": "code",
      "execution_count": 46,
      "metadata": {
        "id": "UR9lohWsemj1"
      },
      "outputs": [],
      "source": [
        "from PIL import Image"
      ]
    },
    {
      "cell_type": "code",
      "execution_count": 51,
      "metadata": {
        "id": "MLbaSfZjemcY"
      },
      "outputs": [],
      "source": [
        "result = Image.fromarray(image_tensor, 'RGB')"
      ]
    },
    {
      "cell_type": "markdown",
      "metadata": {
        "id": "tUya_zFCA0Eo"
      },
      "source": [
        "이미지 저장하기"
      ]
    },
    {
      "cell_type": "code",
      "execution_count": 52,
      "metadata": {
        "id": "wrq9WDCAenZd"
      },
      "outputs": [],
      "source": [
        "result.save(\"test.jpg\")"
      ]
    },
    {
      "cell_type": "markdown",
      "metadata": {
        "id": "VqGHdG5fBr5A"
      },
      "source": [
        "이미지 닫기"
      ]
    },
    {
      "cell_type": "code",
      "execution_count": 53,
      "metadata": {
        "id": "uFlzaGZEeomT"
      },
      "outputs": [],
      "source": [
        "result.close()"
      ]
    }
  ],
  "metadata": {
    "colab": {
      "provenance": []
    },
    "kernelspec": {
      "display_name": "Python 3.9.13 64-bit (microsoft store)",
      "language": "python",
      "name": "python3"
    },
    "language_info": {
      "codemirror_mode": {
        "name": "ipython",
        "version": 3
      },
      "file_extension": ".py",
      "mimetype": "text/x-python",
      "name": "python",
      "nbconvert_exporter": "python",
      "pygments_lexer": "ipython3",
      "version": "3.9.13"
    },
    "vscode": {
      "interpreter": {
        "hash": "0802842df77196f46480eedf8f99793da4ff0bd37409412c272d238ae75c1427"
      }
    }
  },
  "nbformat": 4,
  "nbformat_minor": 0
}
